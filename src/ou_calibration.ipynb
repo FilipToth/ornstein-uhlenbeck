{
 "cells": [
  {
   "cell_type": "code",
   "execution_count": 30,
   "metadata": {},
   "outputs": [
    {
     "name": "stderr",
     "output_type": "stream",
     "text": [
      "$PEP: possibly delisted; no price data found  (1m 2024-08-15 00:00:00 -> 2024-08-22 00:00:00) (Yahoo error = \"1m data not available for startTime=1723694400 and endTime=1724299200. The requested range must be within the last 30 days.\")\n",
      "$KO: possibly delisted; no price data found  (1m 2024-08-15 00:00:00 -> 2024-08-22 00:00:00) (Yahoo error = \"1m data not available for startTime=1723694400 and endTime=1724299200. The requested range must be within the last 30 days.\")\n"
     ]
    },
    {
     "data": {
      "image/png": "[encoded data removed]",
      "text/plain": [
       "<Figure size 640x480 with 1 Axes>"
      ]
     },
     "metadata": {},
     "output_type": "display_data"
    }
   ],
   "source": [
    "import yfinance\n",
    "import pandas as pd\n",
    "import seaborn as sns\n",
    "import matplotlib.pyplot as plt\n",
    "from datetime import datetime, timedelta\n",
    "\n",
    "pepsi = yfinance.Ticker(\"PEP\")\n",
    "cocacola = yfinance.Ticker(\"KO\")\n",
    "\n",
    "START=datetime(2024, 8, 15)\n",
    "NUM_WEEKS = 1\n",
    "\n",
    "spreads = []\n",
    "current_week = START\n",
    "\n",
    "for _ in range(NUM_WEEKS):\n",
    "    end = current_week + timedelta(weeks=1)\n",
    "\n",
    "    pepsi_history = pepsi.history(start=current_week, end=end, interval=\"1m\")\n",
    "    cocacola_history = cocacola.history(start=current_week, end=end, interval=\"1m\")\n",
    "\n",
    "    pepsi_close_data = pepsi_history[\"Close\"]\n",
    "    cocacola_close_data = cocacola_history[\"Close\"]\n",
    "\n",
    "    for i in range(len(pepsi_close_data)):\n",
    "        pepsi_close = pepsi_close_data.iloc[i]\n",
    "        cocacola_close = cocacola_close_data.iloc[i]\n",
    "    \n",
    "        spread = pepsi_close - cocacola_close\n",
    "        spreads.append(spread)\n",
    "\n",
    "    current = end\n",
    "\n",
    "data = pd.DataFrame(spreads)\n",
    "\n",
    "sns.lineplot(data=data).set(title='PEP/KO Equity Price Spreads')\n",
    "plt.show()"
   ]
  },
  {
   "cell_type": "code",
   "execution_count": 31,
   "metadata": {},
   "outputs": [
    {
     "ename": "ZeroDivisionError",
     "evalue": "division by zero",
     "output_type": "error",
     "traceback": [
      "\u001b[0;31m---------------------------------------------------------------------------\u001b[0m",
      "\u001b[0;31mZeroDivisionError\u001b[0m                         Traceback (most recent call last)",
      "Cell \u001b[0;32mIn[31], line 31\u001b[0m\n\u001b[1;32m     26\u001b[0m         \u001b[38;5;28;01mreturn\u001b[39;00m \u001b[38;5;241m0\u001b[39m\n\u001b[1;32m     28\u001b[0m     \u001b[38;5;28;01mreturn\u001b[39;00m math\u001b[38;5;241m.\u001b[39mlog(abs_n)\n\u001b[0;32m---> 31\u001b[0m thetas \u001b[38;5;241m=\u001b[39m \u001b[43mcalibrate_ou\u001b[49m\u001b[43m(\u001b[49m\u001b[43m)\u001b[49m\n\u001b[1;32m     32\u001b[0m d \u001b[38;5;241m=\u001b[39m \u001b[38;5;28mlist\u001b[39m(\u001b[38;5;28mmap\u001b[39m(\u001b[38;5;28;01mlambda\u001b[39;00m t: log(t), thetas))\n\u001b[1;32m     34\u001b[0m data \u001b[38;5;241m=\u001b[39m pd\u001b[38;5;241m.\u001b[39mDataFrame(data\u001b[38;5;241m=\u001b[39md)\n",
      "Cell \u001b[0;32mIn[31], line 6\u001b[0m, in \u001b[0;36mcalibrate_ou\u001b[0;34m()\u001b[0m\n\u001b[1;32m      3\u001b[0m \u001b[38;5;28;01mdef\u001b[39;00m \u001b[38;5;21mcalibrate_ou\u001b[39m():\n\u001b[1;32m      4\u001b[0m     \u001b[38;5;66;03m# assuming long-term mean is the same\u001b[39;00m\n\u001b[1;32m      5\u001b[0m     \u001b[38;5;66;03m# the short term mean of our sample\u001b[39;00m\n\u001b[0;32m----> 6\u001b[0m     mean \u001b[38;5;241m=\u001b[39m \u001b[38;5;28;43msum\u001b[39;49m\u001b[43m(\u001b[49m\u001b[43mspreads\u001b[49m\u001b[43m)\u001b[49m\u001b[43m \u001b[49m\u001b[38;5;241;43m/\u001b[39;49m\u001b[43m \u001b[49m\u001b[38;5;28;43mlen\u001b[39;49m\u001b[43m(\u001b[49m\u001b[43mspreads\u001b[49m\u001b[43m)\u001b[49m\n\u001b[1;32m      8\u001b[0m     thetas \u001b[38;5;241m=\u001b[39m []\n\u001b[1;32m      9\u001b[0m     \u001b[38;5;28;01mfor\u001b[39;00m index, x \u001b[38;5;129;01min\u001b[39;00m \u001b[38;5;28menumerate\u001b[39m(spreads):\n",
      "\u001b[0;31mZeroDivisionError\u001b[0m: division by zero"
     ]
    }
   ],
   "source": [
    "import math\n",
    "\n",
    "def calibrate_ou():\n",
    "    # assuming long-term mean is the same\n",
    "    # the short term mean of our sample\n",
    "    mean = sum(spreads) / len(spreads)\n",
    "    \n",
    "    thetas = []\n",
    "    for index, x in enumerate(spreads):\n",
    "        if index == 0:\n",
    "            continue\n",
    "\n",
    "        prev_x = spreads[index - 1]\n",
    "        \n",
    "        theta = (-x + prev_x) / (math.e * (prev_x - mean))\n",
    "        thetas.append(theta)\n",
    "\n",
    "    return thetas\n",
    "\n",
    "\n",
    "def log(n):\n",
    "    abs_n = abs(n)\n",
    "    if n < 0:\n",
    "        return math.log(abs_n)\n",
    "    elif n == 0:\n",
    "        return 0\n",
    "    \n",
    "    return math.log(abs_n)\n",
    "\n",
    "\n",
    "thetas = calibrate_ou()\n",
    "d = list(map(lambda t: log(t), thetas))\n",
    "\n",
    "data = pd.DataFrame(data=d)\n",
    "sns.lineplot(data=data).set(title='OU Process Thetas')\n",
    "\n",
    "plt.show()"
   ]
  }
 ],
 "metadata": {
  "kernelspec": {
   "display_name": "Python 3",
   "language": "python",
   "name": "python3"
  },
  "language_info": {
   "codemirror_mode": {
    "name": "ipython",
    "version": 3
   },
   "file_extension": ".py",
   "mimetype": "text/x-python",
   "name": "python",
   "nbconvert_exporter": "python",
   "pygments_lexer": "ipython3",
   "version": "3.12.3"
  }
 },
 "nbformat": 4,
 "nbformat_minor": 2
}
